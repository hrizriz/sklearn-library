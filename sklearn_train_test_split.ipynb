{
  "cells": [
    {
      "cell_type": "markdown",
      "metadata": {
        "id": "ijPTRVZyUGjG"
      },
      "source": [
        "Import library yang dibutuhkan"
      ]
    },
    {
      "cell_type": "code",
      "execution_count": 1,
      "metadata": {
        "id": "CKD7d5hh1-wx"
      },
      "outputs": [],
      "source": [
        "import sklearn\n",
        "from sklearn import datasets"
      ]
    },
    {
      "cell_type": "markdown",
      "metadata": {
        "id": "W4WH4644UGji"
      },
      "source": [
        "Library sklearn menyediakan dataset Iris. Yang merupakan sebuah dataset yang umum digunakan untuk masalah klasifikasi. Dataset ini memiliki jumlah 150 sampel.\n",
        "Untuk mendapatkan dataset, bisa dituliskan kode pada dibawah ini."
      ]
    },
    {
      "cell_type": "code",
      "execution_count": 2,
      "metadata": {
        "id": "c6np7_AnUGjl"
      },
      "outputs": [],
      "source": [
        "iris = datasets.load_iris()"
      ]
    },
    {
      "cell_type": "markdown",
      "metadata": {
        "id": "0kVAp3jWUGjo"
      },
      "source": [
        "Kode dibawah ini akan memisahkan antara atribut dan label pada dataset"
      ]
    },
    {
      "cell_type": "code",
      "execution_count": 3,
      "metadata": {
        "id": "2LHUhMku4OyB"
      },
      "outputs": [],
      "source": [
        "x=iris.data\n",
        "y=iris.target"
      ]
    },
    {
      "cell_type": "markdown",
      "metadata": {
        "id": "L-YdxaboUGjw"
      },
      "source": [
        "Untuk membuat train set dan train test perlu memanggil fungsi train_test_split. Train_test_split memiliki parameter x yaitu atribut dari dataset, y yaitu target dari dataset, dan test_size yaitu persentase test set dari dataset utuh.\n",
        "\n",
        "Train_test_split mengembalikan 4 nilai yaitu, atribut dari train set, atribut dari test set, target dari train set, & target dari test set"
      ]
    },
    {
      "cell_type": "code",
      "execution_count": 4,
      "metadata": {
        "id": "HroBkT5YUGjy"
      },
      "outputs": [],
      "source": [
        "from sklearn.model_selection import train_test_split\n",
        "\n",
        "x_train, x_test, y_train, y_test = train_test_split(x,y, test_size=0.2, random_state=1)"
      ]
    },
    {
      "cell_type": "markdown",
      "metadata": {
        "id": "U9UiWtW8UGj1"
      },
      "source": [
        "Bisa dilihat dibawah ini bahwa panjang dari atribut test set adalah 30 sampel. Sesuai dengan parameter yang dimasukan pada fungsi train_test_split yaitu 0.2 (20% dari 150 sample)"
      ]
    },
    {
      "cell_type": "code",
      "execution_count": 5,
      "metadata": {
        "colab": {
          "base_uri": "https://localhost:8080/"
        },
        "id": "kJVIzl8mUGj3",
        "outputId": "2588d6a9-c920-4553-dc88-6ffe78728399"
      },
      "outputs": [
        {
          "output_type": "execute_result",
          "data": {
            "text/plain": [
              "30"
            ]
          },
          "metadata": {},
          "execution_count": 5
        }
      ],
      "source": [
        "len(x_test)"
      ]
    }
  ],
  "metadata": {
    "colab": {
      "provenance": []
    },
    "kernelspec": {
      "display_name": "Python 3",
      "name": "python3"
    },
    "language_info": {
      "codemirror_mode": {
        "name": "ipython",
        "version": 3
      },
      "file_extension": ".py",
      "mimetype": "text/x-python",
      "name": "python",
      "nbconvert_exporter": "python",
      "pygments_lexer": "ipython3",
      "version": "3.10.11"
    }
  },
  "nbformat": 4,
  "nbformat_minor": 0
}